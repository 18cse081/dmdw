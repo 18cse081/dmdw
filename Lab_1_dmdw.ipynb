{
  "nbformat": 4,
  "nbformat_minor": 0,
  "metadata": {
    "colab": {
      "name": "Lab 1 dmdw.ipynb",
      "provenance": [],
      "collapsed_sections": [],
      "authorship_tag": "ABX9TyPsdEGSNuBIQ+ewZ1kJIkoo",
      "include_colab_link": true
    },
    "kernelspec": {
      "name": "python3",
      "display_name": "Python 3"
    }
  },
  "cells": [
    {
      "cell_type": "markdown",
      "metadata": {
        "id": "view-in-github",
        "colab_type": "text"
      },
      "source": [
        "<a href=\"https://colab.research.google.com/github/18cse081/dmdw/blob/main/Lab_1_dmdw.ipynb\" target=\"_parent\"><img src=\"https://colab.research.google.com/assets/colab-badge.svg\" alt=\"Open In Colab\"/></a>"
      ]
    },
    {
      "cell_type": "code",
      "metadata": {
        "id": "YBsK02wb4tZ7"
      },
      "source": [
        ""
      ],
      "execution_count": null,
      "outputs": []
    },
    {
      "cell_type": "code",
      "metadata": {
        "id": "eaw0ubuX78t8",
        "colab": {
          "base_uri": "https://localhost:8080/"
        },
        "outputId": "f1311695-2930-44c8-9656-a009fb735da1"
      },
      "source": [
        "import numpy\n",
        "from scipy import stats\n",
        "from collections import Counter\n",
        "n_num = [1,2,3,4,5,5,5]\n",
        "n= len(n_num)\n",
        "get_sum= sum(n_num)\n",
        "mean = get_sum / n\n",
        "print(\"the mean is\"  +  str (mean))\n",
        "n_num.sort()\n",
        "if n % 2 == 0:\n",
        "  median1 = n_num[n//2]\n",
        "  median2 = n_num[n//2 - 1]\n",
        "  median = (median1 + median2) / 2\n",
        "else:\n",
        "  median = n_num[n//2]\n",
        "\n",
        "print(\"the median value is \" + str (median))\n",
        "\n",
        "data = Counter(n_num) \n",
        "get_mode = dict(data) \n",
        "mode = [k for k, v in get_mode.items() if v == max(list(data.values()))] \n",
        "  \n",
        "if len(mode) == n: \n",
        "    get_mode = \"No mode found\"\n",
        "else: \n",
        "    get_mode = \"Mode is / are: \" + ', '.join(map(str, mode)) \n",
        "      \n",
        "print(get_mode) "
      ],
      "execution_count": null,
      "outputs": [
        {
          "output_type": "stream",
          "text": [
            "the mean is3.5714285714285716\n",
            "the median value is 4\n",
            "Mode is / are: 5\n"
          ],
          "name": "stdout"
        }
      ]
    },
    {
      "cell_type": "code",
      "metadata": {
        "id": "J_uxvnQ88Ts_"
      },
      "source": [
        ""
      ],
      "execution_count": null,
      "outputs": []
    }
  ]
}