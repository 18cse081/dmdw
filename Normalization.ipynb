{
  "nbformat": 4,
  "nbformat_minor": 0,
  "metadata": {
    "colab": {
      "name": "Normalization.ipynb",
      "provenance": [],
      "authorship_tag": "ABX9TyO6An8tI9a+ERin/6aogwCC",
      "include_colab_link": true
    },
    "kernelspec": {
      "name": "python3",
      "display_name": "Python 3"
    }
  },
  "cells": [
    {
      "cell_type": "markdown",
      "metadata": {
        "id": "view-in-github",
        "colab_type": "text"
      },
      "source": [
        "<a href=\"https://colab.research.google.com/github/18cse081/dmdw/blob/main/Normalization.ipynb\" target=\"_parent\"><img src=\"https://colab.research.google.com/assets/colab-badge.svg\" alt=\"Open In Colab\"/></a>"
      ]
    },
    {
      "cell_type": "code",
      "metadata": {
        "id": "DVdCJPkz69la"
      },
      "source": [
        "import pandas as pd\n",
        "import numpy as np"
      ],
      "execution_count": null,
      "outputs": []
    },
    {
      "cell_type": "code",
      "metadata": {
        "id": "jM091wzL7kXI"
      },
      "source": [
        "df=pd.read_csv(r'https://raw.githubusercontent.com/18cse005/DMDW/main/cwurData.csv')"
      ],
      "execution_count": null,
      "outputs": []
    },
    {
      "cell_type": "code",
      "metadata": {
        "id": "2PBBvNai7xWW"
      },
      "source": [
        "import matplotlib.pyplot as plt\n",
        "import seaborn as sns\n",
        "get_ipython().run_line_magic('matplotlib','inline')\n",
        "plt.style.use('seaborn-whitegrid')"
      ],
      "execution_count": null,
      "outputs": []
    },
    {
      "cell_type": "code",
      "metadata": {
        "colab": {
          "base_uri": "https://localhost:8080/",
          "height": 677
        },
        "id": "Mt2aohhJ8SQe",
        "outputId": "2fe43e3a-92e1-4362-ed76-454f51768612"
      },
      "source": [
        "df"
      ],
      "execution_count": null,
      "outputs": [
        {
          "output_type": "execute_result",
          "data": {
            "text/html": [
              "<div>\n",
              "<style scoped>\n",
              "    .dataframe tbody tr th:only-of-type {\n",
              "        vertical-align: middle;\n",
              "    }\n",
              "\n",
              "    .dataframe tbody tr th {\n",
              "        vertical-align: top;\n",
              "    }\n",
              "\n",
              "    .dataframe thead th {\n",
              "        text-align: right;\n",
              "    }\n",
              "</style>\n",
              "<table border=\"1\" class=\"dataframe\">\n",
              "  <thead>\n",
              "    <tr style=\"text-align: right;\">\n",
              "      <th></th>\n",
              "      <th>world_rank</th>\n",
              "      <th>institution</th>\n",
              "      <th>country</th>\n",
              "      <th>national_rank</th>\n",
              "      <th>quality_of_education</th>\n",
              "      <th>alumni_employment</th>\n",
              "      <th>quality_of_faculty</th>\n",
              "      <th>publications</th>\n",
              "      <th>influence</th>\n",
              "      <th>citations</th>\n",
              "      <th>broad_impact</th>\n",
              "      <th>patents</th>\n",
              "      <th>score</th>\n",
              "      <th>year</th>\n",
              "    </tr>\n",
              "  </thead>\n",
              "  <tbody>\n",
              "    <tr>\n",
              "      <th>0</th>\n",
              "      <td>1</td>\n",
              "      <td>Harvard University</td>\n",
              "      <td>USA</td>\n",
              "      <td>1</td>\n",
              "      <td>7</td>\n",
              "      <td>9</td>\n",
              "      <td>1</td>\n",
              "      <td>1</td>\n",
              "      <td>1</td>\n",
              "      <td>1</td>\n",
              "      <td>NaN</td>\n",
              "      <td>5</td>\n",
              "      <td>100.00</td>\n",
              "      <td>2012</td>\n",
              "    </tr>\n",
              "    <tr>\n",
              "      <th>1</th>\n",
              "      <td>2</td>\n",
              "      <td>Massachusetts Institute of Technology</td>\n",
              "      <td>USA</td>\n",
              "      <td>2</td>\n",
              "      <td>9</td>\n",
              "      <td>17</td>\n",
              "      <td>3</td>\n",
              "      <td>12</td>\n",
              "      <td>4</td>\n",
              "      <td>4</td>\n",
              "      <td>NaN</td>\n",
              "      <td>1</td>\n",
              "      <td>91.67</td>\n",
              "      <td>2012</td>\n",
              "    </tr>\n",
              "    <tr>\n",
              "      <th>2</th>\n",
              "      <td>3</td>\n",
              "      <td>Stanford University</td>\n",
              "      <td>USA</td>\n",
              "      <td>3</td>\n",
              "      <td>17</td>\n",
              "      <td>11</td>\n",
              "      <td>5</td>\n",
              "      <td>4</td>\n",
              "      <td>2</td>\n",
              "      <td>2</td>\n",
              "      <td>NaN</td>\n",
              "      <td>15</td>\n",
              "      <td>89.50</td>\n",
              "      <td>2012</td>\n",
              "    </tr>\n",
              "    <tr>\n",
              "      <th>3</th>\n",
              "      <td>4</td>\n",
              "      <td>University of Cambridge</td>\n",
              "      <td>United Kingdom</td>\n",
              "      <td>1</td>\n",
              "      <td>10</td>\n",
              "      <td>24</td>\n",
              "      <td>4</td>\n",
              "      <td>16</td>\n",
              "      <td>16</td>\n",
              "      <td>11</td>\n",
              "      <td>NaN</td>\n",
              "      <td>50</td>\n",
              "      <td>86.17</td>\n",
              "      <td>2012</td>\n",
              "    </tr>\n",
              "    <tr>\n",
              "      <th>4</th>\n",
              "      <td>5</td>\n",
              "      <td>California Institute of Technology</td>\n",
              "      <td>USA</td>\n",
              "      <td>4</td>\n",
              "      <td>2</td>\n",
              "      <td>29</td>\n",
              "      <td>7</td>\n",
              "      <td>37</td>\n",
              "      <td>22</td>\n",
              "      <td>22</td>\n",
              "      <td>NaN</td>\n",
              "      <td>18</td>\n",
              "      <td>85.21</td>\n",
              "      <td>2012</td>\n",
              "    </tr>\n",
              "    <tr>\n",
              "      <th>...</th>\n",
              "      <td>...</td>\n",
              "      <td>...</td>\n",
              "      <td>...</td>\n",
              "      <td>...</td>\n",
              "      <td>...</td>\n",
              "      <td>...</td>\n",
              "      <td>...</td>\n",
              "      <td>...</td>\n",
              "      <td>...</td>\n",
              "      <td>...</td>\n",
              "      <td>...</td>\n",
              "      <td>...</td>\n",
              "      <td>...</td>\n",
              "      <td>...</td>\n",
              "    </tr>\n",
              "    <tr>\n",
              "      <th>2195</th>\n",
              "      <td>996</td>\n",
              "      <td>University of the Algarve</td>\n",
              "      <td>Portugal</td>\n",
              "      <td>7</td>\n",
              "      <td>367</td>\n",
              "      <td>567</td>\n",
              "      <td>218</td>\n",
              "      <td>926</td>\n",
              "      <td>845</td>\n",
              "      <td>812</td>\n",
              "      <td>969.0</td>\n",
              "      <td>816</td>\n",
              "      <td>44.03</td>\n",
              "      <td>2015</td>\n",
              "    </tr>\n",
              "    <tr>\n",
              "      <th>2196</th>\n",
              "      <td>997</td>\n",
              "      <td>Alexandria University</td>\n",
              "      <td>Egypt</td>\n",
              "      <td>4</td>\n",
              "      <td>236</td>\n",
              "      <td>566</td>\n",
              "      <td>218</td>\n",
              "      <td>997</td>\n",
              "      <td>908</td>\n",
              "      <td>645</td>\n",
              "      <td>981.0</td>\n",
              "      <td>871</td>\n",
              "      <td>44.03</td>\n",
              "      <td>2015</td>\n",
              "    </tr>\n",
              "    <tr>\n",
              "      <th>2197</th>\n",
              "      <td>998</td>\n",
              "      <td>Federal University of Ceará</td>\n",
              "      <td>Brazil</td>\n",
              "      <td>18</td>\n",
              "      <td>367</td>\n",
              "      <td>549</td>\n",
              "      <td>218</td>\n",
              "      <td>830</td>\n",
              "      <td>823</td>\n",
              "      <td>812</td>\n",
              "      <td>975.0</td>\n",
              "      <td>824</td>\n",
              "      <td>44.03</td>\n",
              "      <td>2015</td>\n",
              "    </tr>\n",
              "    <tr>\n",
              "      <th>2198</th>\n",
              "      <td>999</td>\n",
              "      <td>University of A Coruña</td>\n",
              "      <td>Spain</td>\n",
              "      <td>40</td>\n",
              "      <td>367</td>\n",
              "      <td>567</td>\n",
              "      <td>218</td>\n",
              "      <td>886</td>\n",
              "      <td>974</td>\n",
              "      <td>812</td>\n",
              "      <td>975.0</td>\n",
              "      <td>651</td>\n",
              "      <td>44.02</td>\n",
              "      <td>2015</td>\n",
              "    </tr>\n",
              "    <tr>\n",
              "      <th>2199</th>\n",
              "      <td>1000</td>\n",
              "      <td>China Pharmaceutical University</td>\n",
              "      <td>China</td>\n",
              "      <td>83</td>\n",
              "      <td>367</td>\n",
              "      <td>567</td>\n",
              "      <td>218</td>\n",
              "      <td>861</td>\n",
              "      <td>991</td>\n",
              "      <td>812</td>\n",
              "      <td>981.0</td>\n",
              "      <td>547</td>\n",
              "      <td>44.02</td>\n",
              "      <td>2015</td>\n",
              "    </tr>\n",
              "  </tbody>\n",
              "</table>\n",
              "<p>2200 rows × 14 columns</p>\n",
              "</div>"
            ],
            "text/plain": [
              "      world_rank                            institution  ...   score  year\n",
              "0              1                     Harvard University  ...  100.00  2012\n",
              "1              2  Massachusetts Institute of Technology  ...   91.67  2012\n",
              "2              3                    Stanford University  ...   89.50  2012\n",
              "3              4                University of Cambridge  ...   86.17  2012\n",
              "4              5     California Institute of Technology  ...   85.21  2012\n",
              "...          ...                                    ...  ...     ...   ...\n",
              "2195         996              University of the Algarve  ...   44.03  2015\n",
              "2196         997                  Alexandria University  ...   44.03  2015\n",
              "2197         998            Federal University of Ceará  ...   44.03  2015\n",
              "2198         999                 University of A Coruña  ...   44.02  2015\n",
              "2199        1000        China Pharmaceutical University  ...   44.02  2015\n",
              "\n",
              "[2200 rows x 14 columns]"
            ]
          },
          "metadata": {
            "tags": []
          },
          "execution_count": 4
        }
      ]
    },
    {
      "cell_type": "code",
      "metadata": {
        "id": "iA443Ndc8TM7"
      },
      "source": [
        "df1=df[['quality_of_faculty','publications']]"
      ],
      "execution_count": null,
      "outputs": []
    },
    {
      "cell_type": "code",
      "metadata": {
        "colab": {
          "base_uri": "https://localhost:8080/",
          "height": 204
        },
        "id": "C1xdmQOi8pOQ",
        "outputId": "ea174679-1d1f-41b0-8f9a-353c7368cf65"
      },
      "source": [
        "df1.head()"
      ],
      "execution_count": null,
      "outputs": [
        {
          "output_type": "execute_result",
          "data": {
            "text/html": [
              "<div>\n",
              "<style scoped>\n",
              "    .dataframe tbody tr th:only-of-type {\n",
              "        vertical-align: middle;\n",
              "    }\n",
              "\n",
              "    .dataframe tbody tr th {\n",
              "        vertical-align: top;\n",
              "    }\n",
              "\n",
              "    .dataframe thead th {\n",
              "        text-align: right;\n",
              "    }\n",
              "</style>\n",
              "<table border=\"1\" class=\"dataframe\">\n",
              "  <thead>\n",
              "    <tr style=\"text-align: right;\">\n",
              "      <th></th>\n",
              "      <th>quality_of_faculty</th>\n",
              "      <th>publications</th>\n",
              "    </tr>\n",
              "  </thead>\n",
              "  <tbody>\n",
              "    <tr>\n",
              "      <th>0</th>\n",
              "      <td>1</td>\n",
              "      <td>1</td>\n",
              "    </tr>\n",
              "    <tr>\n",
              "      <th>1</th>\n",
              "      <td>3</td>\n",
              "      <td>12</td>\n",
              "    </tr>\n",
              "    <tr>\n",
              "      <th>2</th>\n",
              "      <td>5</td>\n",
              "      <td>4</td>\n",
              "    </tr>\n",
              "    <tr>\n",
              "      <th>3</th>\n",
              "      <td>4</td>\n",
              "      <td>16</td>\n",
              "    </tr>\n",
              "    <tr>\n",
              "      <th>4</th>\n",
              "      <td>7</td>\n",
              "      <td>37</td>\n",
              "    </tr>\n",
              "  </tbody>\n",
              "</table>\n",
              "</div>"
            ],
            "text/plain": [
              "   quality_of_faculty  publications\n",
              "0                   1             1\n",
              "1                   3            12\n",
              "2                   5             4\n",
              "3                   4            16\n",
              "4                   7            37"
            ]
          },
          "metadata": {
            "tags": []
          },
          "execution_count": 6
        }
      ]
    },
    {
      "cell_type": "code",
      "metadata": {
        "id": "vVWl_QqM8rKd"
      },
      "source": [
        "x=df1['quality_of_faculty']\n",
        "y=df1['publications']"
      ],
      "execution_count": null,
      "outputs": []
    },
    {
      "cell_type": "code",
      "metadata": {
        "colab": {
          "base_uri": "https://localhost:8080/",
          "height": 331
        },
        "id": "aweGmxjQ87S7",
        "outputId": "c244875b-1cfc-4935-b97d-e073e467cb48"
      },
      "source": [
        "sns.lineplot(x,y,dashes=True)\n",
        "plt.show()"
      ],
      "execution_count": null,
      "outputs": [
        {
          "output_type": "stream",
          "text": [
            "/usr/local/lib/python3.6/dist-packages/seaborn/_decorators.py:43: FutureWarning: Pass the following variables as keyword args: x, y. From version 0.12, the only valid positional argument will be `data`, and passing other arguments without an explicit keyword will result in an error or misinterpretation.\n",
            "  FutureWarning\n"
          ],
          "name": "stderr"
        },
        {
          "output_type": "display_data",
          "data": {
            "image/png": "[encoded data removed]",
            "text/plain": [
              "<Figure size 432x288 with 1 Axes>"
            ]
          },
          "metadata": {
            "tags": []
          }
        }
      ]
    },
    {
      "cell_type": "code",
      "metadata": {
        "id": "sYSs-F7j9Eer"
      },
      "source": [
        "from scipy.stats import norm"
      ],
      "execution_count": null,
      "outputs": []
    },
    {
      "cell_type": "code",
      "metadata": {
        "colab": {
          "base_uri": "https://localhost:8080/"
        },
        "id": "LDyXy4ou9T2b",
        "outputId": "c0ecf4c4-3e5b-4690-84cd-f0d14f871d69"
      },
      "source": [
        "correlation=df1.corr()\n",
        "print(correlation)"
      ],
      "execution_count": null,
      "outputs": [
        {
          "output_type": "stream",
          "text": [
            "                    quality_of_faculty  publications\n",
            "quality_of_faculty            1.000000      0.634423\n",
            "publications                  0.634423      1.000000\n"
          ],
          "name": "stdout"
        }
      ]
    },
    {
      "cell_type": "code",
      "metadata": {
        "colab": {
          "base_uri": "https://localhost:8080/",
          "height": 266
        },
        "id": "_NhoD_ID9cTQ",
        "outputId": "d5305cfa-731f-4986-8abb-ac08a0497dd7"
      },
      "source": [
        "sns.heatmap(correlation,cmap='BrBG')\n",
        "plt.show()"
      ],
      "execution_count": null,
      "outputs": [
        {
          "output_type": "display_data",
          "data": {
            "image/png": "[encoded data removed]",
            "text/plain": [
              "<Figure size 432x288 with 2 Axes>"
            ]
          },
          "metadata": {
            "tags": []
          }
        }
      ]
    },
    {
      "cell_type": "code",
      "metadata": {
        "colab": {
          "base_uri": "https://localhost:8080/"
        },
        "id": "h6p3b-Mv9qG4",
        "outputId": "b506a97f-dcc1-469b-ad15-d5a331c92223"
      },
      "source": [
        "covar=df1.cov()\n",
        "print(covar)"
      ],
      "execution_count": null,
      "outputs": [
        {
          "output_type": "stream",
          "text": [
            "                    quality_of_faculty  publications\n",
            "quality_of_faculty         4102.515913  12343.406787\n",
            "publications              12343.406787  92270.351358\n"
          ],
          "name": "stdout"
        }
      ]
    },
    {
      "cell_type": "code",
      "metadata": {
        "colab": {
          "base_uri": "https://localhost:8080/",
          "height": 262
        },
        "id": "HMdrmdqk9ylh",
        "outputId": "e41996ce-aa09-4a86-b03b-7c78b95528dc"
      },
      "source": [
        "sns.heatmap(covar)\n",
        "plt.show()"
      ],
      "execution_count": null,
      "outputs": [
        {
          "output_type": "display_data",
          "data": {
            "image/png": "[encoded data removed]",
            "text/plain": [
              "<Figure size 432x288 with 2 Axes>"
            ]
          },
          "metadata": {
            "tags": []
          }
        }
      ]
    },
    {
      "cell_type": "code",
      "metadata": {
        "id": "_i-CG14s-Bbl"
      },
      "source": [
        "# Normalization\n"
      ],
      "execution_count": null,
      "outputs": []
    },
    {
      "cell_type": "code",
      "metadata": {
        "colab": {
          "base_uri": "https://localhost:8080/",
          "height": 677
        },
        "id": "gxh9wG-U-JzZ",
        "outputId": "b03ea661-9f44-4a4e-b194-d3b2cad1fed0"
      },
      "source": [
        "df"
      ],
      "execution_count": null,
      "outputs": [
        {
          "output_type": "execute_result",
          "data": {
            "text/html": [
              "<div>\n",
              "<style scoped>\n",
              "    .dataframe tbody tr th:only-of-type {\n",
              "        vertical-align: middle;\n",
              "    }\n",
              "\n",
              "    .dataframe tbody tr th {\n",
              "        vertical-align: top;\n",
              "    }\n",
              "\n",
              "    .dataframe thead th {\n",
              "        text-align: right;\n",
              "    }\n",
              "</style>\n",
              "<table border=\"1\" class=\"dataframe\">\n",
              "  <thead>\n",
              "    <tr style=\"text-align: right;\">\n",
              "      <th></th>\n",
              "      <th>world_rank</th>\n",
              "      <th>institution</th>\n",
              "      <th>country</th>\n",
              "      <th>national_rank</th>\n",
              "      <th>quality_of_education</th>\n",
              "      <th>alumni_employment</th>\n",
              "      <th>quality_of_faculty</th>\n",
              "      <th>publications</th>\n",
              "      <th>influence</th>\n",
              "      <th>citations</th>\n",
              "      <th>broad_impact</th>\n",
              "      <th>patents</th>\n",
              "      <th>score</th>\n",
              "      <th>year</th>\n",
              "    </tr>\n",
              "  </thead>\n",
              "  <tbody>\n",
              "    <tr>\n",
              "      <th>0</th>\n",
              "      <td>1</td>\n",
              "      <td>Harvard University</td>\n",
              "      <td>USA</td>\n",
              "      <td>1</td>\n",
              "      <td>7</td>\n",
              "      <td>9</td>\n",
              "      <td>1</td>\n",
              "      <td>1</td>\n",
              "      <td>1</td>\n",
              "      <td>1</td>\n",
              "      <td>NaN</td>\n",
              "      <td>5</td>\n",
              "      <td>100.00</td>\n",
              "      <td>2012</td>\n",
              "    </tr>\n",
              "    <tr>\n",
              "      <th>1</th>\n",
              "      <td>2</td>\n",
              "      <td>Massachusetts Institute of Technology</td>\n",
              "      <td>USA</td>\n",
              "      <td>2</td>\n",
              "      <td>9</td>\n",
              "      <td>17</td>\n",
              "      <td>3</td>\n",
              "      <td>12</td>\n",
              "      <td>4</td>\n",
              "      <td>4</td>\n",
              "      <td>NaN</td>\n",
              "      <td>1</td>\n",
              "      <td>91.67</td>\n",
              "      <td>2012</td>\n",
              "    </tr>\n",
              "    <tr>\n",
              "      <th>2</th>\n",
              "      <td>3</td>\n",
              "      <td>Stanford University</td>\n",
              "      <td>USA</td>\n",
              "      <td>3</td>\n",
              "      <td>17</td>\n",
              "      <td>11</td>\n",
              "      <td>5</td>\n",
              "      <td>4</td>\n",
              "      <td>2</td>\n",
              "      <td>2</td>\n",
              "      <td>NaN</td>\n",
              "      <td>15</td>\n",
              "      <td>89.50</td>\n",
              "      <td>2012</td>\n",
              "    </tr>\n",
              "    <tr>\n",
              "      <th>3</th>\n",
              "      <td>4</td>\n",
              "      <td>University of Cambridge</td>\n",
              "      <td>United Kingdom</td>\n",
              "      <td>1</td>\n",
              "      <td>10</td>\n",
              "      <td>24</td>\n",
              "      <td>4</td>\n",
              "      <td>16</td>\n",
              "      <td>16</td>\n",
              "      <td>11</td>\n",
              "      <td>NaN</td>\n",
              "      <td>50</td>\n",
              "      <td>86.17</td>\n",
              "      <td>2012</td>\n",
              "    </tr>\n",
              "    <tr>\n",
              "      <th>4</th>\n",
              "      <td>5</td>\n",
              "      <td>California Institute of Technology</td>\n",
              "      <td>USA</td>\n",
              "      <td>4</td>\n",
              "      <td>2</td>\n",
              "      <td>29</td>\n",
              "      <td>7</td>\n",
              "      <td>37</td>\n",
              "      <td>22</td>\n",
              "      <td>22</td>\n",
              "      <td>NaN</td>\n",
              "      <td>18</td>\n",
              "      <td>85.21</td>\n",
              "      <td>2012</td>\n",
              "    </tr>\n",
              "    <tr>\n",
              "      <th>...</th>\n",
              "      <td>...</td>\n",
              "      <td>...</td>\n",
              "      <td>...</td>\n",
              "      <td>...</td>\n",
              "      <td>...</td>\n",
              "      <td>...</td>\n",
              "      <td>...</td>\n",
              "      <td>...</td>\n",
              "      <td>...</td>\n",
              "      <td>...</td>\n",
              "      <td>...</td>\n",
              "      <td>...</td>\n",
              "      <td>...</td>\n",
              "      <td>...</td>\n",
              "    </tr>\n",
              "    <tr>\n",
              "      <th>2195</th>\n",
              "      <td>996</td>\n",
              "      <td>University of the Algarve</td>\n",
              "      <td>Portugal</td>\n",
              "      <td>7</td>\n",
              "      <td>367</td>\n",
              "      <td>567</td>\n",
              "      <td>218</td>\n",
              "      <td>926</td>\n",
              "      <td>845</td>\n",
              "      <td>812</td>\n",
              "      <td>969.0</td>\n",
              "      <td>816</td>\n",
              "      <td>44.03</td>\n",
              "      <td>2015</td>\n",
              "    </tr>\n",
              "    <tr>\n",
              "      <th>2196</th>\n",
              "      <td>997</td>\n",
              "      <td>Alexandria University</td>\n",
              "      <td>Egypt</td>\n",
              "      <td>4</td>\n",
              "      <td>236</td>\n",
              "      <td>566</td>\n",
              "      <td>218</td>\n",
              "      <td>997</td>\n",
              "      <td>908</td>\n",
              "      <td>645</td>\n",
              "      <td>981.0</td>\n",
              "      <td>871</td>\n",
              "      <td>44.03</td>\n",
              "      <td>2015</td>\n",
              "    </tr>\n",
              "    <tr>\n",
              "      <th>2197</th>\n",
              "      <td>998</td>\n",
              "      <td>Federal University of Ceará</td>\n",
              "      <td>Brazil</td>\n",
              "      <td>18</td>\n",
              "      <td>367</td>\n",
              "      <td>549</td>\n",
              "      <td>218</td>\n",
              "      <td>830</td>\n",
              "      <td>823</td>\n",
              "      <td>812</td>\n",
              "      <td>975.0</td>\n",
              "      <td>824</td>\n",
              "      <td>44.03</td>\n",
              "      <td>2015</td>\n",
              "    </tr>\n",
              "    <tr>\n",
              "      <th>2198</th>\n",
              "      <td>999</td>\n",
              "      <td>University of A Coruña</td>\n",
              "      <td>Spain</td>\n",
              "      <td>40</td>\n",
              "      <td>367</td>\n",
              "      <td>567</td>\n",
              "      <td>218</td>\n",
              "      <td>886</td>\n",
              "      <td>974</td>\n",
              "      <td>812</td>\n",
              "      <td>975.0</td>\n",
              "      <td>651</td>\n",
              "      <td>44.02</td>\n",
              "      <td>2015</td>\n",
              "    </tr>\n",
              "    <tr>\n",
              "      <th>2199</th>\n",
              "      <td>1000</td>\n",
              "      <td>China Pharmaceutical University</td>\n",
              "      <td>China</td>\n",
              "      <td>83</td>\n",
              "      <td>367</td>\n",
              "      <td>567</td>\n",
              "      <td>218</td>\n",
              "      <td>861</td>\n",
              "      <td>991</td>\n",
              "      <td>812</td>\n",
              "      <td>981.0</td>\n",
              "      <td>547</td>\n",
              "      <td>44.02</td>\n",
              "      <td>2015</td>\n",
              "    </tr>\n",
              "  </tbody>\n",
              "</table>\n",
              "<p>2200 rows × 14 columns</p>\n",
              "</div>"
            ],
            "text/plain": [
              "      world_rank                            institution  ...   score  year\n",
              "0              1                     Harvard University  ...  100.00  2012\n",
              "1              2  Massachusetts Institute of Technology  ...   91.67  2012\n",
              "2              3                    Stanford University  ...   89.50  2012\n",
              "3              4                University of Cambridge  ...   86.17  2012\n",
              "4              5     California Institute of Technology  ...   85.21  2012\n",
              "...          ...                                    ...  ...     ...   ...\n",
              "2195         996              University of the Algarve  ...   44.03  2015\n",
              "2196         997                  Alexandria University  ...   44.03  2015\n",
              "2197         998            Federal University of Ceará  ...   44.03  2015\n",
              "2198         999                 University of A Coruña  ...   44.02  2015\n",
              "2199        1000        China Pharmaceutical University  ...   44.02  2015\n",
              "\n",
              "[2200 rows x 14 columns]"
            ]
          },
          "metadata": {
            "tags": []
          },
          "execution_count": 16
        }
      ]
    },
    {
      "cell_type": "code",
      "metadata": {
        "colab": {
          "base_uri": "https://localhost:8080/"
        },
        "id": "9FNXsIEK-Kbk",
        "outputId": "bd1db1b3-6199-4994-9c43-9cb748928c7f"
      },
      "source": [
        "quality_of_education=np.array(df['quality_of_education'])\n",
        "quality_of_education"
      ],
      "execution_count": null,
      "outputs": [
        {
          "output_type": "execute_result",
          "data": {
            "text/plain": [
              "array([  7,   9,  17, ..., 367, 367, 367])"
            ]
          },
          "metadata": {
            "tags": []
          },
          "execution_count": 18
        }
      ]
    },
    {
      "cell_type": "code",
      "metadata": {
        "colab": {
          "base_uri": "https://localhost:8080/"
        },
        "id": "Q9JUU_sb-Zyf",
        "outputId": "3d11d7fb-d12c-4f0e-fb0b-7cc660f6875d"
      },
      "source": [
        "print(max(quality_of_education))"
      ],
      "execution_count": null,
      "outputs": [
        {
          "output_type": "stream",
          "text": [
            "367\n"
          ],
          "name": "stdout"
        }
      ]
    },
    {
      "cell_type": "code",
      "metadata": {
        "id": "OxFd_H7T-r3m"
      },
      "source": [
        "from scipy import stats\n",
        "zscore=np.array(stats.zscore (quality_of_education))\n",
        "zscore=zscore[0:394]"
      ],
      "execution_count": null,
      "outputs": []
    },
    {
      "cell_type": "code",
      "metadata": {
        "colab": {
          "base_uri": "https://localhost:8080/"
        },
        "id": "8oFwM4Wt_Nc5",
        "outputId": "2327e769-09ba-4707-90ee-7d2087e66be8"
      },
      "source": [
        "zscore"
      ],
      "execution_count": null,
      "outputs": [
        {
          "output_type": "execute_result",
          "data": {
            "text/plain": [
              "array([-2.19921423e+00, -2.18280833e+00, -2.11718475e+00, -2.17460539e+00,\n",
              "       -2.24022897e+00, -2.19101128e+00, -2.14999654e+00, -2.14179359e+00,\n",
              "       -2.06796705e+00, -2.12538769e+00, -2.13359064e+00, -2.08437295e+00,\n",
              "       -2.00234347e+00, -1.99414052e+00, -1.97773462e+00, -2.04335821e+00,\n",
              "       -1.91211103e+00, -2.22382308e+00, -1.74805206e+00, -1.75625501e+00,\n",
              "       -2.24843192e+00, -2.05976411e+00, -1.52657245e+00, -1.42813707e+00,\n",
              "       -1.73164616e+00, -1.58399309e+00, -1.72344322e+00, -1.56758719e+00,\n",
              "       -2.10077885e+00, -1.42813707e+00, -1.96953167e+00, -1.62500783e+00,\n",
              "       -1.42813707e+00, -1.69883437e+00, -1.42813707e+00, -1.42813707e+00,\n",
              "       -1.64961668e+00, -1.50196361e+00, -1.42813707e+00, -1.42813707e+00,\n",
              "       -1.68242847e+00, -1.47735476e+00, -2.01054641e+00, -1.42813707e+00,\n",
              "       -1.60860194e+00, -1.57579014e+00, -1.42813707e+00, -1.86289334e+00,\n",
              "       -1.42813707e+00, -1.42813707e+00, -1.88750219e+00, -1.42813707e+00,\n",
              "       -1.92031398e+00, -2.23202602e+00, -1.42813707e+00, -1.46094886e+00,\n",
              "       -2.02695231e+00, -2.03515526e+00, -1.60039899e+00, -1.67422552e+00,\n",
              "       -1.87109629e+00, -1.42813707e+00, -1.81367565e+00, -1.42813707e+00,\n",
              "       -1.87929924e+00, -1.85469039e+00, -1.42813707e+00, -1.55938425e+00,\n",
              "       -1.42813707e+00, -1.83828450e+00, -1.59219604e+00, -1.42813707e+00,\n",
              "       -1.42813707e+00, -1.79726975e+00, -1.42813707e+00, -1.42813707e+00,\n",
              "       -1.42813707e+00, -1.98593757e+00, -1.82187860e+00, -1.42813707e+00,\n",
              "       -1.42813707e+00, -1.54297835e+00, -1.51836950e+00, -1.42813707e+00,\n",
              "       -1.53477540e+00, -1.76445796e+00, -1.42813707e+00, -1.42813707e+00,\n",
              "       -1.46915181e+00, -1.83008155e+00, -1.42813707e+00, -1.42813707e+00,\n",
              "       -1.42813707e+00, -1.42813707e+00, -2.10898180e+00, -1.42813707e+00,\n",
              "       -1.42813707e+00, -1.42813707e+00, -1.43634002e+00, -1.89570514e+00,\n",
              "       -2.24843192e+00, -2.16640244e+00, -2.19921423e+00, -2.24022897e+00,\n",
              "       -2.23202602e+00, -2.14999654e+00, -2.20741718e+00, -2.22382308e+00,\n",
              "       -2.18280833e+00, -2.17460539e+00, -2.21562013e+00, -2.07617000e+00,\n",
              "       -2.15819949e+00, -2.11718475e+00, -1.99414052e+00, -1.94492283e+00,\n",
              "       -2.06796705e+00, -2.12538769e+00, -1.95312577e+00, -1.98593757e+00,\n",
              "       -2.13359064e+00, -1.42813707e+00, -2.00234347e+00, -1.72344322e+00,\n",
              "       -1.52657245e+00, -1.42813707e+00, -1.42813707e+00, -1.42813707e+00,\n",
              "       -1.51016655e+00, -2.05976411e+00, -1.42813707e+00, -1.96953167e+00,\n",
              "       -2.10898180e+00, -1.42813707e+00, -1.62500783e+00, -2.04335821e+00,\n",
              "       -1.42813707e+00, -1.47735476e+00, -1.42813707e+00, -1.42813707e+00,\n",
              "       -1.58399309e+00, -1.42813707e+00, -1.42813707e+00, -1.42813707e+00,\n",
              "       -1.87109629e+00, -1.87929924e+00, -1.81367565e+00, -2.10077885e+00,\n",
              "       -1.80547270e+00, -1.42813707e+00, -2.01054641e+00, -1.42813707e+00,\n",
              "       -1.76445796e+00, -1.42813707e+00, -1.42813707e+00, -1.83008155e+00,\n",
              "       -1.56758719e+00, -1.42813707e+00, -1.60860194e+00, -1.42813707e+00,\n",
              "       -1.42813707e+00, -1.42813707e+00, -1.42813707e+00, -2.19101128e+00,\n",
              "       -1.42813707e+00, -1.84648744e+00, -1.74805206e+00, -1.42813707e+00,\n",
              "       -1.60039899e+00, -1.42813707e+00, -1.42813707e+00, -1.42813707e+00,\n",
              "       -1.42813707e+00, -1.42813707e+00, -1.92031398e+00, -1.73984911e+00,\n",
              "       -1.77266091e+00, -1.42813707e+00, -1.65781963e+00, -1.42813707e+00,\n",
              "       -1.42813707e+00, -1.88750219e+00, -1.42813707e+00, -1.42813707e+00,\n",
              "       -1.42813707e+00, -1.42813707e+00, -1.42813707e+00, -1.42813707e+00,\n",
              "       -1.42813707e+00, -2.14179359e+00, -1.66602258e+00, -1.42813707e+00,\n",
              "       -1.42813707e+00, -1.83828450e+00, -1.90390808e+00, -1.42813707e+00,\n",
              "       -1.42813707e+00, -1.69063142e+00, -2.02695231e+00, -1.42813707e+00,\n",
              "       -2.24843192e+00, -2.16640244e+00, -2.23202602e+00, -2.24022897e+00,\n",
              "       -2.19921423e+00, -2.14999654e+00, -2.22382308e+00, -2.17460539e+00,\n",
              "       -2.21562013e+00, -2.18280833e+00, -2.15819949e+00, -2.20741718e+00,\n",
              "       -2.11718475e+00, -2.08437295e+00, -2.03515526e+00, -2.01054641e+00,\n",
              "       -1.98593757e+00, -2.12538769e+00, -2.05976411e+00, -1.99414052e+00,\n",
              "       -2.01874936e+00, -2.13359064e+00, -1.01798964e+00,  6.55411859e-01,\n",
              "       -2.00234347e+00, -1.72344322e+00,  6.55411859e-01, -1.97773462e+00,\n",
              "       -1.50196361e+00, -2.09257590e+00, -1.67422552e+00, -1.52657245e+00,\n",
              "       -1.51016655e+00, -3.36358176e-02, -2.19101128e+00, -1.02619259e+00,\n",
              "       -1.66602258e+00, -2.10898180e+00, -1.26407810e+00,  6.55411859e-01,\n",
              "       -6.65262855e-01, -1.88750219e+00, -1.69063142e+00, -1.87929924e+00,\n",
              "       -7.88307083e-01, -4.02768502e-01, -1.49376066e+00, -2.14179359e+00,\n",
              "       -1.75625501e+00, -2.04335821e+00, -1.04259849e+00, -1.59219604e+00,\n",
              "       -1.63321078e+00, -2.05156116e+00,  6.55411859e-01, -1.91211103e+00,\n",
              "       -1.87109629e+00, -1.46915181e+00, -5.17609781e-01, -1.23946925e+00,\n",
              "       -1.55938425e+00, -1.53477540e+00, -1.64141373e+00, -6.40654009e-01,\n",
              "       -1.32970169e+00, -1.84648744e+00,  1.30423153e-01, -1.96132872e+00,\n",
              "       -1.45274591e+00, -1.44454297e+00, -1.37071643e+00, -1.92851693e+00,\n",
              "       -1.22306336e+00,  6.55411859e-01, -1.86289334e+00, -1.73984911e+00,\n",
              "       -1.76445796e+00,  6.55411859e-01, -1.34610758e+00, -4.76595038e-01,\n",
              "       -1.79726975e+00, -1.90390808e+00, -1.24767220e+00, -1.69883437e+00,\n",
              "       -1.35431053e+00, -1.64961668e+00,  1.55031999e-01, -1.41993412e+00,\n",
              "       -1.78906680e+00, -2.02695231e+00, -1.71524027e+00,  6.55411859e-01,\n",
              "        6.55411859e-01,  6.55411859e-01, -1.21486041e+00, -5.50421575e-01,\n",
              "       -1.14103387e+00, -2.06796705e+00, -1.94492283e+00, -7.39089392e-01,\n",
              "        6.55411859e-01, -1.89570514e+00, -9.19554259e-01,  6.55411859e-01,\n",
              "        4.33932249e-01,  6.55411859e-01,  6.55411859e-01, -1.81367565e+00,\n",
              "       -1.92031398e+00, -1.82187860e+00, -1.11642502e+00, -1.33790463e+00,\n",
              "       -5.25812730e-01, -1.60860194e+00, -8.28535088e-02, -1.17384566e+00,\n",
              "       -1.37891938e+00, -1.05900438e+00,  1.38626102e-01,  6.55411859e-01,\n",
              "        6.55411859e-01, -7.63698237e-01, -8.04712980e-01, -1.74805206e+00,\n",
              "       -4.27377347e-01, -8.62133620e-01,  1.46829050e-01,  6.55411859e-01,\n",
              "       -1.28868694e+00,  6.55411859e-01,  2.20655587e-01, -1.70703732e+00,\n",
              "        6.55411859e-01,  2.78076227e-01, -1.13283092e+00, -1.31329579e+00,\n",
              "       -4.60189141e-01,  6.55411859e-01, -9.03148362e-01, -1.29688989e+00,\n",
              "       -5.34015678e-01, -1.78086386e+00,  6.55411859e-01,  6.55411859e-01,\n",
              "       -2.71521325e-01,  3.27293918e-01, -1.20665746e+00,  6.55411859e-01,\n",
              "       -8.45727723e-01, -2.10077885e+00, -1.56758719e+00,  6.55411859e-01,\n",
              "       -2.07617000e+00, -1.62500783e+00, -2.54328691e-02,  6.55411859e-01,\n",
              "       -8.24023466e-04, -1.48555771e+00, -1.73164616e+00, -7.30886443e-01,\n",
              "       -1.39532527e+00,  6.55411859e-01, -9.44163105e-01,  6.55411859e-01,\n",
              "        6.55411859e-01,  6.55411859e-01, -2.14100685e-01, -2.22303634e-01,\n",
              "       -1.93671988e+00,  1.55818736e-02, -9.68771951e-01, -8.29321825e-01,\n",
              "        6.55411859e-01,  6.55411859e-01,  6.55411859e-01, -1.77266091e+00,\n",
              "        2.45264433e-01, -1.18204861e+00,  2.37061484e-01, -8.12915928e-01,\n",
              "       -9.27757208e-01, -1.72299205e-02,  6.55411859e-01,  2.37848221e-02,\n",
              "        6.55411859e-01,  6.55411859e-01, -7.47292340e-01, -1.23868251e-01,\n",
              "        6.55411859e-01, -1.12462797e+00,  6.55411859e-01,  6.55411859e-01,\n",
              "        6.55411859e-01, -1.47735476e+00])"
            ]
          },
          "metadata": {
            "tags": []
          },
          "execution_count": 22
        }
      ]
    },
    {
      "cell_type": "code",
      "metadata": {
        "id": "sw0aIzxO_POV"
      },
      "source": [
        "# decimal normalization"
      ],
      "execution_count": null,
      "outputs": []
    },
    {
      "cell_type": "code",
      "metadata": {
        "colab": {
          "base_uri": "https://localhost:8080/"
        },
        "id": "DzAgCM1W_V8p",
        "outputId": "9a61a7d0-7c54-4f71-82a7-3638c6f4c52a"
      },
      "source": [
        "dn=[]\n",
        "dn.append(quality_of_education/pow(10,2))\n",
        "dn=np.array(dn)\n",
        "print(dn)"
      ],
      "execution_count": null,
      "outputs": [
        {
          "output_type": "stream",
          "text": [
            "[[0.07 0.09 0.17 ... 3.67 3.67 3.67]]\n"
          ],
          "name": "stdout"
        }
      ]
    },
    {
      "cell_type": "code",
      "metadata": {
        "id": "pIcM9jJe_fjV"
      },
      "source": [
        ""
      ],
      "execution_count": null,
      "outputs": []
    }
  ]
}